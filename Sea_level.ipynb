{
 "cells": [
  {
   "cell_type": "markdown",
   "id": "0fe6930f-7a07-44b8-9fe9-35ac8ee5976a",
   "metadata": {},
   "source": [
    "# Investigate Sea Level rise in ACCESS-OM2 OMIP model"
   ]
  },
  {
   "cell_type": "markdown",
   "id": "b142da93-85ac-473a-8fd1-12bfaadbb658",
   "metadata": {},
   "source": [
    "This is an adaptation of a [COSIMA Recipe comparing sea level in a number of resolutions to observed sea level data](https://cosima-recipes.readthedocs.io/en/latest/DocumentedExamples/Compare_SSH_model_obs.html).\n",
    "\n",
    "Rather than compare to observations in this notebook we will make a climatology of the early part of the model run, and compute anomalies for the last 18 years of the experiment."
   ]
  },
  {
   "cell_type": "code",
   "execution_count": null,
   "id": "a1a8b34a-232c-41cc-8392-976804332491",
   "metadata": {},
   "outputs": [],
   "source": [
    "import cosima_cookbook as cc\n",
    "import cf_xarray"
   ]
  },
  {
   "cell_type": "markdown",
   "id": "b3e04723-f6e5-48ab-9b97-b0931a9028ca",
   "metadata": {},
   "source": [
    "This is relatively computationally intensive, so we'll need a dask client to parallelise the workflow. Paste the dashboard_link that is printed below the cell into the dask window on the left to see live updates of the progress of the job"
   ]
  },
  {
   "cell_type": "code",
   "execution_count": null,
   "id": "509849e2-c81c-424b-baa0-87a0c004a271",
   "metadata": {},
   "outputs": [],
   "source": [
    "from distributed import Client\n",
    "\n",
    "client = Client(threads_per_worker=1)\n",
    "client.dashboard_link"
   ]
  },
  {
   "cell_type": "markdown",
   "id": "f2fe7461-6b8d-4c8c-86fa-e8c1f52a5006",
   "metadata": {},
   "source": [
    "Create a connection to the COSIMA Cookbook database, define the experiment and variable we want to use (same ones we found in the previous notebook)"
   ]
  },
  {
   "cell_type": "code",
   "execution_count": null,
   "id": "6ce332f1-e11b-4f9e-a966-5dbce7e93f07",
   "metadata": {},
   "outputs": [],
   "source": [
    "session = cc.database.create_session()"
   ]
  },
  {
   "cell_type": "code",
   "execution_count": null,
   "id": "0bca9ddd-4d77-48f3-a133-3074c997b6a5",
   "metadata": {},
   "outputs": [],
   "source": [
    "experiment_name = \"1deg_jra55_iaf_omip2_cycle6\"\n",
    "variable_name = \"sea_level\""
   ]
  },
  {
   "cell_type": "markdown",
   "id": "e5cc758b-e726-47cb-b9ea-0ecb0c0f9201",
   "metadata": {},
   "source": [
    "Re-use the command copied from the Experiment Explorer when we loaded this variable. In this case though we want the whole time range of the data, so won't specify `start_date` and `end_date`"
   ]
  },
  {
   "cell_type": "code",
   "execution_count": null,
   "id": "34fc977d-2094-40d5-b78a-3c770a0a890a",
   "metadata": {},
   "outputs": [],
   "source": [
    "%%time\n",
    "variable = cc.querying.getvar(expt=experiment_name, variable=variable_name, \n",
    "                          session=session, frequency='1 daily',\n",
    "                          attrs={'cell_methods': 'time: mean'})"
   ]
  },
  {
   "cell_type": "code",
   "execution_count": null,
   "id": "ecb79705-202b-4392-a044-b6eed1d4fd2d",
   "metadata": {},
   "outputs": [],
   "source": [
    "variable"
   ]
  },
  {
   "cell_type": "markdown",
   "id": "9b1db695-429a-43e5-8890-f9a089be94f4",
   "metadata": {},
   "source": [
    "Make a climatology from the first thirty years of data which we'll use to compare with later time periods. This requires reading in a large number of files, so can take a while to complete"
   ]
  },
  {
   "cell_type": "code",
   "execution_count": null,
   "id": "b281ad37-c0fa-4827-b895-39c6369e743d",
   "metadata": {},
   "outputs": [],
   "source": [
    "%%time\n",
    "sea_level_climatology = variable.sel(time=slice('1957', '1986')).mean('time').compute()"
   ]
  },
  {
   "cell_type": "code",
   "execution_count": null,
   "id": "c29fe2a4-8471-4e22-89ce-3cd8a2f1d834",
   "metadata": {},
   "outputs": [],
   "source": [
    "sea_level_climatology"
   ]
  },
  {
   "cell_type": "markdown",
   "id": "66dc8527-513e-40a9-a1d8-ea0975b00167",
   "metadata": {},
   "source": [
    "It is always a good idea to make a plot to eyeball the data"
   ]
  },
  {
   "cell_type": "code",
   "execution_count": null,
   "id": "d99c865d-1d77-4efe-af8e-40c4886b8d8a",
   "metadata": {},
   "outputs": [],
   "source": [
    "sea_level_climatology.plot()"
   ]
  },
  {
   "cell_type": "markdown",
   "id": "da1d8b43-5689-4582-8547-ac40c403fcc9",
   "metadata": {},
   "source": [
    "Let's explore a science question. Is there a trend in `sea_level` anomalies since the year 2000? Are there any spatial patterns if there is a systematic change?\n",
    "\n",
    "So the next step is to calculate anomalies for all the data from the year 2000 onwards, and find the mean for each year. This is the really expensive calculation on because it has to subtract the climatology first"
   ]
  },
  {
   "cell_type": "code",
   "execution_count": null,
   "id": "63cb9fdd-9604-4aed-b76c-7bd70acf407d",
   "metadata": {},
   "outputs": [],
   "source": [
    "%%time\n",
    "sea_level_anomalies = (variable.sel(time=slice('2000',None)) - sea_level_climatology).resample({'time': '1Y'}).mean('time').compute()"
   ]
  },
  {
   "cell_type": "markdown",
   "id": "12299f08-525d-4812-bf79-63ded9b0836e",
   "metadata": {},
   "source": [
    "<details>\n",
    "  <summary>Click if you're short on time</summary>\n",
    "The `sea_level_anomalies` data is available on disk in case we ran out of time. You can load it directly:\n",
    "\n",
    "```python\n",
    "sea_level_anomalies = xr.open_dataset('/scratch/public/COSIMA_tutorial/climatology.nc')\n",
    "```\n",
    "</details>"
   ]
  },
  {
   "cell_type": "markdown",
   "id": "05027c28-4997-4601-a2cd-9480f36e29b6",
   "metadata": {},
   "source": [
    "#### Exercise 1\n",
    "\n",
    "Make a (line) plot of mean sea level by year, i.e. take the mean over the spatial dimensions for each year.\n",
    "\n",
    "Hint: this can be done in a single line"
   ]
  },
  {
   "cell_type": "markdown",
   "id": "d94a1322-43c0-4425-8439-66f1fb50e024",
   "metadata": {},
   "source": [
    "<details>\n",
    "  <summary>Click for answer</summary>\n",
    "\n",
    "```python\n",
    "sea_level_anomalies.mean(dim=('xt_ocean', 'yt_ocean')).plot()\n",
    "```\n",
    "</details>"
   ]
  },
  {
   "cell_type": "markdown",
   "id": "395143c5-a8e7-4ca6-81a6-5494252b9646",
   "metadata": {},
   "source": [
    "#### Exercise 2\n",
    "\n",
    "Now make two plots the same as the last, but one for each hemisphere, to see if there are any trends more evident in one hemisphere than the other"
   ]
  },
  {
   "cell_type": "markdown",
   "id": "b2ddf0ed-d40f-4a72-a687-84b3fe2b86ab",
   "metadata": {},
   "source": [
    "<details>\n",
    "  <summary>Click for answer</summary>\n",
    "\n",
    "```python\n",
    "sea_level_anomalies.sel(yt_ocean=slice(-90,0)).mean(dim=('xt_ocean', 'yt_ocean')).plot()\n",
    "sea_level_anomalies.sel(yt_ocean=slice(0,90)).mean(dim=('xt_ocean', 'yt_ocean')).plot()\n",
    "```\n",
    "</details>"
   ]
  },
  {
   "cell_type": "markdown",
   "id": "3a327948-1601-471a-a395-4c462677bdb6",
   "metadata": {},
   "source": [
    "#### Exercise 3\n",
    "\n",
    "Lastly make a [facet plot](https://docs.xarray.dev/en/latest/user-guide/plotting.html#faceting) showing the mean anomaly for each year to see if there are any spatial patterns to the sea level anomalies.\n",
    "\n",
    "Hint: this does not involve any calculations"
   ]
  },
  {
   "cell_type": "markdown",
   "id": "991d667e-8fe0-48d9-b600-827293939fd9",
   "metadata": {},
   "source": [
    "<details>\n",
    "  <summary>Click for answer</summary>\n",
    "\n",
    "```python\n",
    "sea_level_anomalies.plot(col=\"time\", col_wrap=4)\n",
    "```\n",
    "</details>"
   ]
  },
  {
   "cell_type": "code",
   "execution_count": null,
   "id": "64d649c5-099e-4923-8ea3-239fb965df9c",
   "metadata": {},
   "outputs": [],
   "source": []
  }
 ],
 "metadata": {
  "kernelspec": {
   "display_name": "Python [conda env:analysis3-23.07] *",
   "language": "python",
   "name": "conda-env-analysis3-23.07-py"
  },
  "language_info": {
   "codemirror_mode": {
    "name": "ipython",
    "version": 3
   },
   "file_extension": ".py",
   "mimetype": "text/x-python",
   "name": "python",
   "nbconvert_exporter": "python",
   "pygments_lexer": "ipython3",
   "version": "3.10.12"
  },
  "widgets": {
   "application/vnd.jupyter.widget-state+json": {
    "state": {},
    "version_major": 2,
    "version_minor": 0
   }
  }
 },
 "nbformat": 4,
 "nbformat_minor": 5
}
